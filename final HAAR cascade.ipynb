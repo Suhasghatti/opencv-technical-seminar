{
 "cells": [
  {
   "cell_type": "markdown",
   "id": "bc1cad18",
   "metadata": {},
   "source": [
    "## Face detection using sample image"
   ]
  },
  {
   "cell_type": "code",
   "execution_count": 2,
   "id": "4cde72a9",
   "metadata": {},
   "outputs": [],
   "source": [
    "import pandas as pd "
   ]
  },
  {
   "cell_type": "code",
   "execution_count": 12,
   "id": "650d2395",
   "metadata": {},
   "outputs": [],
   "source": [
    "\n",
    "\n",
    "import cv2\n",
    "\n",
    "# Load the cascade classifier\n",
    "\n",
    "# cv2.CascadeClassifier loads the Haar Cascade classifier, which is an XML file that contains \n",
    "# the information required to perform the face detection. The default classifier for face \n",
    "# detection provided by OpenCV is haarcascade_frontalface_default.xml.\n",
    "\n",
    "\n",
    "face_cascade = cv2.CascadeClassifier(cv2.data.haarcascades + 'haarcascade_frontalface_default.xml')\n",
    "\n",
    "\n",
    "# Load an image\n",
    "# cv2.imread reads an image from a file and stores it in a matrix.\n",
    "\n",
    "img = cv2.imread(r'C:\\\\Users\\\\admin\\\\Downloads\\\\jpg.jpg', 1)\n",
    "\n",
    "\n",
    "# Convert the image to grayscale\n",
    "\n",
    "# cv2.cvtColor converts the image from the RGB color space to grayscale. \n",
    "# Face detection algorithms typically operate on grayscale images because \n",
    "# it's easier to process and faster to execute.\n",
    "\n",
    "\n",
    "gray = cv2.cvtColor(img, cv2.COLOR_BGR2GRAY)\n",
    "\n",
    "# Detect faces in the grayscale image\n",
    "\n",
    "# face_cascade.detectMultiScale is the function that performs the face detection. \n",
    "# It takes the grayscale image as an input and returns an array of faces. \n",
    "# Each face is represented by a tuple of four values: the x and y coordinates \n",
    "# of the top-left corner of the rectangle, and the width and height of the rectangle.\n",
    "\n",
    "\n",
    "faces = face_cascade.detectMultiScale(gray, scaleFactor=1.1, minNeighbors=5)\n",
    "\n",
    "# Draw rectangles around the faces\n",
    "\n",
    "# The for loop iterates over the faces and draws rectangles around them using the \n",
    "# cv2.rectangle function. The arguments to this function are the image, the top-left \n",
    "# corner and bottom-right corner of the rectangle, the color of the rectangle, \n",
    "# and the thickness of the line.\n",
    "\n",
    "for (x, y, w, h) in faces:\n",
    "    cv2.rectangle(img, (x, y), (x + w, y + h), (0, 255, 0), 2)\n",
    "\n",
    "# Display the image with faces marked\n",
    "\n",
    "# cv2.imshow displays the output image.\n",
    "# cv2.waitKey waits for a key press.\n",
    "# cv2.destroyAllWindows closes all the windows created by OpenCV.\n",
    "\n",
    "\n",
    "cv2.imshow(\"Faces found\", img)\n",
    "cv2.waitKey(0)\n",
    "cv2.destroyAllWindows()\n"
   ]
  },
  {
   "cell_type": "code",
   "execution_count": null,
   "id": "46667e79",
   "metadata": {},
   "outputs": [],
   "source": []
  },
  {
   "cell_type": "code",
   "execution_count": null,
   "id": "bada2dd5",
   "metadata": {},
   "outputs": [],
   "source": []
  },
  {
   "cell_type": "code",
   "execution_count": null,
   "id": "8edaad19",
   "metadata": {},
   "outputs": [],
   "source": []
  },
  {
   "cell_type": "markdown",
   "id": "dd003698",
   "metadata": {},
   "source": [
    "## Face detection using classroom photo"
   ]
  },
  {
   "cell_type": "code",
   "execution_count": 11,
   "id": "8b236806",
   "metadata": {},
   "outputs": [],
   "source": [
    "#classroom photo face detection\n",
    "\n",
    "\n",
    "import cv2\n",
    "\n",
    "# Load the cascade classifier\n",
    "face_cascade = cv2.CascadeClassifier(cv2.data.haarcascades + 'haarcascade_frontalface_default.xml')\n",
    "eye_cascade = cv2.CascadeClassifier(cv2.data.haarcascades + 'haarcascade_eye.xml')\n",
    "\n",
    "# Load an image\n",
    "img = cv2.imread(r'C:\\\\Users\\\\admin\\\\Downloads\\\\img2.jpg', 1)\n",
    "\n",
    "# Convert the image to grayscale\n",
    "gray = cv2.cvtColor(img, cv2.COLOR_BGR2GRAY)\n",
    "\n",
    "# Detect faces in the grayscale image\n",
    "faces = face_cascade.detectMultiScale(gray, scaleFactor=1.1, minNeighbors=5)\n",
    "\n",
    "# Draw rectangles around the faces\n",
    "for (x, y, w, h) in faces:\n",
    "    cv2.rectangle(img, (x, y), (x + w, y + h), (0, 255, 0), 2)\n",
    "\n",
    "# Display the image with faces marked\n",
    "cv2.imshow(\"Faces found\", img)\n",
    "cv2.waitKey(0)\n",
    "cv2.destroyAllWindows()\n"
   ]
  },
  {
   "cell_type": "markdown",
   "id": "da909ecc",
   "metadata": {},
   "source": [
    "## LIVE CAMERA FACE AND EYE DETECTION"
   ]
  },
  {
   "cell_type": "code",
   "execution_count": 10,
   "id": "e499c510",
   "metadata": {},
   "outputs": [],
   "source": [
    "#LIVE CAMERA FACE AND EYE DETECTION\n",
    "import cv2\n",
    "\n",
    "# Load the cascade classifiers for face and eyes\n",
    "face_cascade = cv2.CascadeClassifier(cv2.data.haarcascades + 'haarcascade_frontalface_default.xml')\n",
    "eye_cascade = cv2.CascadeClassifier(cv2.data.haarcascades + 'haarcascade_eye.xml')\n",
    "\n",
    "# Open the default camera\n",
    "cap = cv2.VideoCapture(0)\n",
    "\n",
    "\n",
    "# Loop until the 'q' key is pressed\n",
    "\n",
    "while True:\n",
    "    # Read a frame from the webcam\n",
    "    ret, frame = cap.read()\n",
    "\n",
    "    # Convert the frame to grayscale\n",
    "    gray = cv2.cvtColor(frame, cv2.COLOR_BGR2GRAY)\n",
    "\n",
    "    # Detect faces in the grayscale frame\n",
    "    faces = face_cascade.detectMultiScale(gray, scaleFactor=1.1, minNeighbors=5)\n",
    "\n",
    "    # Draw rectangles around the faces\n",
    "    for (x, y, w, h) in faces:\n",
    "        cv2.rectangle(frame, (x, y), (x + w, y + h), (0, 255, 0), 2)\n",
    "\n",
    "        # Get the region of interest (ROI) for the eyes\n",
    "        roi_gray = gray[y:y + h, x:x + w]\n",
    "        roi_color = frame[y:y + h, x:x + w]\n",
    "\n",
    "        # Detect eyes in the ROI\n",
    "        eyes = eye_cascade.detectMultiScale(roi_gray)\n",
    "\n",
    "        # Draw rectangles around the eyes\n",
    "        for (ex, ey, ew, eh) in eyes:\n",
    "            cv2.rectangle(roi_color, (ex, ey), (ex + ew, ey + eh), (255, 0, 0), 2)\n",
    "\n",
    "    # Display the frame with faces and eyes marked\n",
    "    cv2.imshow(\"Face and Eye Detection\", frame)\n",
    "\n",
    "    # Break the loop if the 'q' key is pressed\n",
    "    if cv2.waitKey(1) & 0xFF == ord('q'):\n",
    "        break\n",
    "\n",
    "# Release the webcam and close all the windows\n",
    "cap.release()\n",
    "cv2.destroyAllWindows()\n"
   ]
  },
  {
   "cell_type": "code",
   "execution_count": null,
   "id": "76536962",
   "metadata": {},
   "outputs": [],
   "source": []
  },
  {
   "cell_type": "code",
   "execution_count": null,
   "id": "02dcc24a",
   "metadata": {},
   "outputs": [],
   "source": []
  },
  {
   "cell_type": "code",
   "execution_count": null,
   "id": "adfe2bd8",
   "metadata": {},
   "outputs": [],
   "source": []
  },
  {
   "cell_type": "code",
   "execution_count": null,
   "id": "fd553bbb",
   "metadata": {},
   "outputs": [],
   "source": []
  },
  {
   "cell_type": "code",
   "execution_count": null,
   "id": "4e00c49d",
   "metadata": {},
   "outputs": [],
   "source": []
  },
  {
   "cell_type": "code",
   "execution_count": null,
   "id": "6f21629f",
   "metadata": {},
   "outputs": [],
   "source": []
  },
  {
   "cell_type": "code",
   "execution_count": null,
   "id": "a064b8e2",
   "metadata": {},
   "outputs": [],
   "source": []
  },
  {
   "cell_type": "code",
   "execution_count": null,
   "id": "c7a8f816",
   "metadata": {},
   "outputs": [],
   "source": []
  },
  {
   "cell_type": "code",
   "execution_count": null,
   "id": "c89a2f9f",
   "metadata": {},
   "outputs": [],
   "source": []
  },
  {
   "cell_type": "code",
   "execution_count": null,
   "id": "56b0d8a7",
   "metadata": {},
   "outputs": [],
   "source": []
  }
 ],
 "metadata": {
  "kernelspec": {
   "display_name": "Python 3 (ipykernel)",
   "language": "python",
   "name": "python3"
  },
  "language_info": {
   "codemirror_mode": {
    "name": "ipython",
    "version": 3
   },
   "file_extension": ".py",
   "mimetype": "text/x-python",
   "name": "python",
   "nbconvert_exporter": "python",
   "pygments_lexer": "ipython3",
   "version": "3.9.13"
  }
 },
 "nbformat": 4,
 "nbformat_minor": 5
}
